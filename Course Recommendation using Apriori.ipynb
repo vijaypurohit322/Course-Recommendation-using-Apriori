{
 "cells": [
  {
   "cell_type": "markdown",
   "metadata": {},
   "source": [
    "## Course Recommendation using Apriori"
   ]
  },
  {
   "cell_type": "code",
   "execution_count": 9,
   "metadata": {
    "id": "KTH0TeYKS4G6"
   },
   "outputs": [],
   "source": [
    "import numpy as np \n",
    "import pandas as pd \n",
    "from mlxtend.frequent_patterns import apriori, association_rules \n",
    "from mlxtend.preprocessing import TransactionEncoder\n"
   ]
  },
  {
   "cell_type": "code",
   "execution_count": 48,
   "metadata": {
    "colab": {
     "base_uri": "https://localhost:8080/",
     "height": 262
    },
    "id": "62LMcnJeTNEa",
    "outputId": "97c8adf9-8941-4fe9-af17-92d666355a36"
   },
   "outputs": [
    {
     "data": {
      "text/html": [
       "<div>\n",
       "<style scoped>\n",
       "    .dataframe tbody tr th:only-of-type {\n",
       "        vertical-align: middle;\n",
       "    }\n",
       "\n",
       "    .dataframe tbody tr th {\n",
       "        vertical-align: top;\n",
       "    }\n",
       "\n",
       "    .dataframe thead th {\n",
       "        text-align: right;\n",
       "    }\n",
       "</style>\n",
       "<table border=\"1\" class=\"dataframe\">\n",
       "  <thead>\n",
       "    <tr style=\"text-align: right;\">\n",
       "      <th></th>\n",
       "      <th>id</th>\n",
       "      <th>course_title</th>\n",
       "      <th>course_organization</th>\n",
       "      <th>course_Certificate_type</th>\n",
       "      <th>course_rating</th>\n",
       "      <th>course_difficulty</th>\n",
       "      <th>course_students_enrolled</th>\n",
       "    </tr>\n",
       "  </thead>\n",
       "  <tbody>\n",
       "    <tr>\n",
       "      <th>0</th>\n",
       "      <td>134</td>\n",
       "      <td>(ISC)² Systems Security Certified Practitioner...</td>\n",
       "      <td>(ISC)²</td>\n",
       "      <td>SPECIALIZATION</td>\n",
       "      <td>4.7</td>\n",
       "      <td>Beginner</td>\n",
       "      <td>5.3k</td>\n",
       "    </tr>\n",
       "    <tr>\n",
       "      <th>1</th>\n",
       "      <td>743</td>\n",
       "      <td>A Crash Course in Causality:  Inferring Causal...</td>\n",
       "      <td>University of Pennsylvania</td>\n",
       "      <td>COURSE</td>\n",
       "      <td>4.7</td>\n",
       "      <td>Intermediate</td>\n",
       "      <td>17k</td>\n",
       "    </tr>\n",
       "    <tr>\n",
       "      <th>2</th>\n",
       "      <td>874</td>\n",
       "      <td>A Crash Course in Data Science</td>\n",
       "      <td>Johns Hopkins University</td>\n",
       "      <td>COURSE</td>\n",
       "      <td>4.5</td>\n",
       "      <td>Mixed</td>\n",
       "      <td>130k</td>\n",
       "    </tr>\n",
       "    <tr>\n",
       "      <th>3</th>\n",
       "      <td>413</td>\n",
       "      <td>A Law Student's Toolkit</td>\n",
       "      <td>Yale University</td>\n",
       "      <td>COURSE</td>\n",
       "      <td>4.7</td>\n",
       "      <td>Mixed</td>\n",
       "      <td>91k</td>\n",
       "    </tr>\n",
       "    <tr>\n",
       "      <th>4</th>\n",
       "      <td>635</td>\n",
       "      <td>A Life of Happiness and Fulfillment</td>\n",
       "      <td>Indian School of Business</td>\n",
       "      <td>COURSE</td>\n",
       "      <td>4.8</td>\n",
       "      <td>Mixed</td>\n",
       "      <td>320k</td>\n",
       "    </tr>\n",
       "  </tbody>\n",
       "</table>\n",
       "</div>"
      ],
      "text/plain": [
       "    id  ... course_students_enrolled\n",
       "0  134  ...                     5.3k\n",
       "1  743  ...                      17k\n",
       "2  874  ...                     130k\n",
       "3  413  ...                      91k\n",
       "4  635  ...                     320k\n",
       "\n",
       "[5 rows x 7 columns]"
      ]
     },
     "execution_count": 48,
     "metadata": {
      "tags": []
     },
     "output_type": "execute_result"
    }
   ],
   "source": [
    "data = pd.read_excel('/content/courses_data.xlsx') \n",
    "data.head()"
   ]
  },
  {
   "cell_type": "code",
   "execution_count": 49,
   "metadata": {
    "colab": {
     "base_uri": "https://localhost:8080/"
    },
    "id": "zsfdL_f4UvPO",
    "outputId": "3d009bae-2787-49e8-9097-5531ad7d629a"
   },
   "outputs": [
    {
     "data": {
      "text/plain": [
       "Index(['id', 'course_title', 'course_organization', 'course_Certificate_type',\n",
       "       'course_rating', 'course_difficulty', 'course_students_enrolled'],\n",
       "      dtype='object')"
      ]
     },
     "execution_count": 49,
     "metadata": {
      "tags": []
     },
     "output_type": "execute_result"
    }
   ],
   "source": [
    "data.columns"
   ]
  },
  {
   "cell_type": "code",
   "execution_count": 50,
   "metadata": {
    "colab": {
     "base_uri": "https://localhost:8080/"
    },
    "id": "C0c15U3YUcNW",
    "outputId": "33418893-9fd7-4014-d45b-7cd9a9fec9c8"
   },
   "outputs": [
    {
     "data": {
      "text/plain": [
       "array(['SPECIALIZATION', 'COURSE', 'PROFESSIONAL'], dtype=object)"
      ]
     },
     "execution_count": 50,
     "metadata": {
      "tags": []
     },
     "output_type": "execute_result"
    }
   ],
   "source": [
    "data.course_Certificate_type.unique()"
   ]
  },
  {
   "cell_type": "code",
   "execution_count": 92,
   "metadata": {
    "id": "WhajxSYnWLde"
   },
   "outputs": [],
   "source": [
    " \n",
    "SPECIALIZATION = (data[data['course_Certificate_type'] ==\"SPECIALIZATION\"] \n",
    "\t\t.groupby(['id', 'course_title'])['course_rating'] \n",
    "\t\t.sum().unstack().reset_index().fillna(1) \n",
    "\t\t.set_index('id')) \n",
    "\n",
    "COURSE = (data[data['course_Certificate_type'] ==\"COURSE\"] \n",
    "\t\t.groupby(['id', 'course_title'])['course_rating'] \n",
    "\t\t.sum().unstack().reset_index().fillna(0) \n",
    "\t\t.set_index('id')) \n",
    "\n",
    "PROFESSIONAL= (data[data['course_Certificate_type'] ==\"PROFESSIONAL\"] \n",
    "\t\t.groupby(['id', 'course_title'])['course_rating'] \n",
    "\t\t.sum().unstack().reset_index().fillna(0) \n",
    "\t\t.set_index('id')) \n",
    "\n",
    "\n"
   ]
  },
  {
   "cell_type": "code",
   "execution_count": 93,
   "metadata": {
    "id": "PDJuO3XqhIaZ"
   },
   "outputs": [],
   "source": [
    "def hot_encode(x): \n",
    "    if(x<= 0): \n",
    "        return 0\n",
    "    if(x>= 1): \n",
    "        return 1\n",
    "  \n",
    "# Encoding the datasets \n",
    "SP_encoded = SPECIALIZATION.applymap(hot_encode) \n",
    "SPECIALIZATION = SP_encoded \n",
    "  \n",
    "C_encoded = COURSE.applymap(hot_encode) \n",
    "COURSE = C_encoded \n",
    "  \n",
    "P_encoded = PROFESSIONAL.applymap(hot_encode) \n",
    "PROFESSIONAL = P_encoded \n",
    "  \n"
   ]
  },
  {
   "cell_type": "code",
   "execution_count": 94,
   "metadata": {
    "colab": {
     "base_uri": "https://localhost:8080/"
    },
    "id": "Ee-_xqhvmhQp",
    "outputId": "7ab3965f-5b4e-4d41-f601-c92050619d8f"
   },
   "outputs": [
    {
     "name": "stdout",
     "output_type": "stream",
     "text": [
      "                                             antecedents                                        consequents\n",
      "0                          (AI Foundations for Everyone)  ((ISC)² Systems Security Certified Practitione...\n",
      "1      ((ISC)² Systems Security Certified Practitione...                      (AI Foundations for Everyone)\n",
      "2      ((ISC)² Systems Security Certified Practitione...                                  (AI for Medicine)\n",
      "3                                      (AI for Medicine)  ((ISC)² Systems Security Certified Practitione...\n",
      "4      ((ISC)² Systems Security Certified Practitione...                                 (AWS Fundamentals)\n",
      "...                                                  ...                                                ...\n",
      "87907     (Разработка интерфейсов: вёрстка и JavaScript)                          (Русский как иностранный)\n",
      "87908    (Финансовые инструменты для частного инвестора)     (Разработка интерфейсов: вёрстка и JavaScript)\n",
      "87909     (Разработка интерфейсов: вёрстка и JavaScript)    (Финансовые инструменты для частного инвестора)\n",
      "87910                          (Русский как иностранный)    (Финансовые инструменты для частного инвестора)\n",
      "87911    (Финансовые инструменты для частного инвестора)                          (Русский как иностранный)\n",
      "\n",
      "[87912 rows x 2 columns]\n"
     ]
    }
   ],
   "source": [
    "frequent_itemsets = apriori(SPECIALIZATION, min_support=0.002, use_colnames=True, max_len=2)\n",
    "\n",
    "rules = association_rules(frequent_itemsets, metric=\"lift\", min_threshold=1)\n",
    "df = pd.DataFrame(rules)\n",
    "print(df[['antecedents','consequents']])"
   ]
  }
 ],
 "metadata": {
  "colab": {
   "name": "Untitled5.ipynb",
   "provenance": []
  },
  "kernelspec": {
   "display_name": "Python 3",
   "language": "python",
   "name": "python3"
  },
  "language_info": {
   "codemirror_mode": {
    "name": "ipython",
    "version": 3
   },
   "file_extension": ".py",
   "mimetype": "text/x-python",
   "name": "python",
   "nbconvert_exporter": "python",
   "pygments_lexer": "ipython3",
   "version": "3.7.4"
  }
 },
 "nbformat": 4,
 "nbformat_minor": 1
}
